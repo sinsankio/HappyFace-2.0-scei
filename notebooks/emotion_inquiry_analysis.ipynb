{
 "cells": [
  {
   "cell_type": "code",
   "execution_count": 1,
   "id": "initial_id",
   "metadata": {
    "collapsed": true,
    "ExecuteTime": {
     "end_time": "2024-04-14T07:45:34.510571Z",
     "start_time": "2024-04-14T07:45:33.583410Z"
    }
   },
   "outputs": [],
   "source": [
    "from utils.emotion_inquiry import generate_emotion_inquiry_analysis"
   ]
  },
  {
   "cell_type": "code",
   "outputs": [],
   "source": [
    "def analyze_emotion_inquiry(special_consideration_msg: str) -> dict:\n",
    "    return generate_emotion_inquiry_analysis(special_consideration_msg)"
   ],
   "metadata": {
    "collapsed": false,
    "ExecuteTime": {
     "end_time": "2024-04-14T07:45:34.519028Z",
     "start_time": "2024-04-14T07:45:34.512560Z"
    }
   },
   "id": "a73a7d05d928ee7b",
   "execution_count": 2
  },
  {
   "cell_type": "code",
   "outputs": [
    {
     "name": "stdout",
     "output_type": "stream",
     "text": [
      "{'emotion': {'expression': 'sad', 'accuracy': 85, 'valence': -50, 'arousal': 40}}\n"
     ]
    }
   ],
   "source": [
    "scm = '''\n",
    "    Hello there,\n",
    "    \n",
    "    I am not in a good mood these days. could you please allocate part of my work load\n",
    "    to the HR department within tomorrow?\n",
    "    \n",
    "    Thanks!\n",
    "'''\n",
    "print(analyze_emotion_inquiry(scm))"
   ],
   "metadata": {
    "collapsed": false,
    "ExecuteTime": {
     "end_time": "2024-04-14T07:45:39.182201Z",
     "start_time": "2024-04-14T07:45:34.522996Z"
    }
   },
   "id": "18af3070ef4e5857",
   "execution_count": 3
  },
  {
   "cell_type": "code",
   "outputs": [
    {
     "name": "stdout",
     "output_type": "stream",
     "text": [
      "{'emotion': {'expression': 'happy', 'accuracy': 95, 'valence': 70, 'arousal': 25}}\n"
     ]
    }
   ],
   "source": [
    "scm = '''\n",
    "    Hello there,\n",
    "    \n",
    "    Thank you very much for promoting me as a Senior SE. I am so glad to have this kind of \n",
    "    an opportunity from my workplace. Would you please send my daily tasks for the upcoming month?\n",
    "    \n",
    "    Thanks in advance.\n",
    "'''\n",
    "print(analyze_emotion_inquiry(scm))"
   ],
   "metadata": {
    "collapsed": false,
    "ExecuteTime": {
     "end_time": "2024-04-14T07:47:38.596501Z",
     "start_time": "2024-04-14T07:47:35.624043Z"
    }
   },
   "id": "dd6aa238a59a65aa",
   "execution_count": 6
  },
  {
   "cell_type": "code",
   "outputs": [
    {
     "name": "stdout",
     "output_type": "stream",
     "text": [
      "{'emotion': {'expression': 'fear', 'accuracy': 90, 'valence': -50, 'arousal': 75}}\n"
     ]
    }
   ],
   "source": [
    "scm = '''\n",
    "    Hello there,\n",
    "    \n",
    "    I am in a severe stress condition a personal financial un stability, would I able to take a loan from my work place? and also \n",
    "    I need to take three holidays within this week. Am I able to take holidays during this week? \n",
    "    \n",
    "    If yes, what are the days I should be taken in this week?\n",
    "    \n",
    "    Regards!\n",
    "'''\n",
    "print(analyze_emotion_inquiry(scm))"
   ],
   "metadata": {
    "collapsed": false,
    "ExecuteTime": {
     "end_time": "2024-04-14T07:48:43.847453Z",
     "start_time": "2024-04-14T07:48:40.775926Z"
    }
   },
   "id": "8c0393ca02528a8c",
   "execution_count": 7
  },
  {
   "cell_type": "code",
   "outputs": [
    {
     "name": "stdout",
     "output_type": "stream",
     "text": [
      "{'emotion': {'expression': 'sad', 'accuracy': 85, 'valence': -50, 'arousal': 40}}\n"
     ]
    }
   ],
   "source": [
    "scm = '''\n",
    "    Hello there,\n",
    "    \n",
    "    I am working as a software engineer of my company. Since I have to get engage by sitting in-front of a computer all the day,\n",
    "    I have encountered with a back pain yesterday? Help me please :(\n",
    "    \n",
    "    Regards!\n",
    "'''\n",
    "print(analyze_emotion_inquiry(scm))"
   ],
   "metadata": {
    "collapsed": false,
    "ExecuteTime": {
     "end_time": "2024-04-14T07:49:29.572549Z",
     "start_time": "2024-04-14T07:49:26.545137Z"
    }
   },
   "id": "31fd814bc7e6eed7",
   "execution_count": 8
  },
  {
   "cell_type": "code",
   "outputs": [
    {
     "name": "stdout",
     "output_type": "stream",
     "text": [
      "{'emotion': {'expression': 'sad', 'accuracy': 90, 'valence': -50, 'arousal': 50}}\n"
     ]
    }
   ],
   "source": [
    "scm = '''\n",
    "    Hey,\n",
    "    \n",
    "    My wife is pregnant! But I am not sure about my potentiality on financial capabilities will help me to make survive 3 members \n",
    "    including with me. By thinking about this problem all the time, now I feel a very frustrated attitude about my life. \n",
    "    Thinking I may need to get proper counselling from organizational medical center. Do you have any support which can do for me\n",
    "    under this situation? If it is, you are a great life savor! Thank you!\n",
    "    \n",
    "    Regards!\n",
    "'''\n",
    "print(analyze_emotion_inquiry(scm))"
   ],
   "metadata": {
    "collapsed": false,
    "ExecuteTime": {
     "end_time": "2024-04-14T07:50:06.877670Z",
     "start_time": "2024-04-14T07:50:03.573379Z"
    }
   },
   "id": "1b937bcd00a25797",
   "execution_count": 9
  },
  {
   "cell_type": "code",
   "outputs": [
    {
     "name": "stdout",
     "output_type": "stream",
     "text": [
      "{'emotion': {'expression': 'anger', 'accuracy': 95, 'valence': -75, 'arousal': 75}}\n"
     ]
    }
   ],
   "source": [
    "scm = '''\n",
    "    This is a fucking hell man. I can't work longer more here. I wanna resign bitch!\n",
    "    \n",
    "    Resign me motherfucker \n",
    "'''\n",
    "print(analyze_emotion_inquiry(scm))"
   ],
   "metadata": {
    "collapsed": false,
    "ExecuteTime": {
     "end_time": "2024-04-14T07:51:28.726916Z",
     "start_time": "2024-04-14T07:51:25.613623Z"
    }
   },
   "id": "fc00d831a2d1736e",
   "execution_count": 10
  },
  {
   "cell_type": "code",
   "outputs": [],
   "source": [],
   "metadata": {
    "collapsed": false
   },
   "id": "1a7c11425675b0f1"
  }
 ],
 "metadata": {
  "kernelspec": {
   "display_name": "Python 3",
   "language": "python",
   "name": "python3"
  },
  "language_info": {
   "codemirror_mode": {
    "name": "ipython",
    "version": 2
   },
   "file_extension": ".py",
   "mimetype": "text/x-python",
   "name": "python",
   "nbconvert_exporter": "python",
   "pygments_lexer": "ipython2",
   "version": "2.7.6"
  }
 },
 "nbformat": 4,
 "nbformat_minor": 5
}
